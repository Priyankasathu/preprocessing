{
 "cells": [
  {
   "cell_type": "code",
   "execution_count": 15,
   "id": "f5d241c3-bdcf-4db7-a2ea-464ef9d79324",
   "metadata": {},
   "outputs": [],
   "source": [
    "import pickle"
   ]
  },
  {
   "cell_type": "code",
   "execution_count": 21,
   "id": "ee79d469-f852-4a96-959a-d8e401eeab8a",
   "metadata": {},
   "outputs": [
    {
     "name": "stdout",
     "output_type": "stream",
     "text": [
      "[[ 0.39063909  0.61682131  0.75672907  1.01127431 -0.49929923]]\n",
      "[[10335.41394902]]\n"
     ]
    },
    {
     "name": "stderr",
     "output_type": "stream",
     "text": [
      "C:\\Users\\priyanka\\anaconda3\\Lib\\site-packages\\sklearn\\base.py:493: UserWarning: X does not have valid feature names, but StandardScaler was fitted with feature names\n",
      "  warnings.warn(\n"
     ]
    }
   ],
   "source": [
    "#only this code will be visible to the end used and this is a deployement code\n",
    "loaded_model = pickle.load(open('finalized_model.sav', 'rb'))\n",
    "loaded_sc = pickle.load(open('scaler.sav', 'rb'))\n",
    "loaded_scy = pickle.load(open('scalery.sav', 'rb'))\n",
    "preproc= loaded_sc.transform([[45,34,2,1,0]])\n",
    "result = loaded_model.predict(preproc)\n",
    "resulty = loaded_scy.inverse_transform(result.reshape(-1, 1))\n",
    "\n",
    "print(preproc)\n",
    "print(resulty)"
   ]
  },
  {
   "cell_type": "code",
   "execution_count": null,
   "id": "30c874d2-d8e2-4fce-803c-5fd03de75747",
   "metadata": {},
   "outputs": [],
   "source": []
  }
 ],
 "metadata": {
  "kernelspec": {
   "display_name": "Python [conda env:base] *",
   "language": "python",
   "name": "conda-base-py"
  },
  "language_info": {
   "codemirror_mode": {
    "name": "ipython",
    "version": 3
   },
   "file_extension": ".py",
   "mimetype": "text/x-python",
   "name": "python",
   "nbconvert_exporter": "python",
   "pygments_lexer": "ipython3",
   "version": "3.12.7"
  }
 },
 "nbformat": 4,
 "nbformat_minor": 5
}
